{
 "nbformat": 4,
 "nbformat_minor": 2,
 "metadata": {
  "language_info": {
   "name": "python",
   "codemirror_mode": {
    "name": "ipython",
    "version": 3
   },
   "version": "3.7.6-final"
  },
  "orig_nbformat": 2,
  "file_extension": ".py",
  "mimetype": "text/x-python",
  "name": "python",
  "npconvert_exporter": "python",
  "pygments_lexer": "ipython3",
  "version": 3,
  "kernelspec": {
   "name": "python3",
   "display_name": "Python 3"
  }
 },
 "cells": [
  {
   "cell_type": "markdown",
   "metadata": {},
   "source": [
    "# TP ElasticSearch"
   ]
  },
  {
   "cell_type": "code",
   "execution_count": 1,
   "metadata": {},
   "outputs": [],
   "source": [
    "from elasticsearch import Elasticsearch"
   ]
  },
  {
   "cell_type": "code",
   "execution_count": 2,
   "metadata": {},
   "outputs": [],
   "source": [
    "def connect_elasticsearch():\n",
    "    _es = None\n",
    "    _es = Elasticsearch([{'host': 'localhost', 'port': 9200}])\n",
    "    if _es.ping():\n",
    "        print('ElasticSearch Tourne')\n",
    "    else:\n",
    "        print('ElasticSearch ne tourne pas')\n",
    "    return _es"
   ]
  },
  {
   "cell_type": "code",
   "execution_count": 3,
   "metadata": {},
   "outputs": [
    {
     "name": "stdout",
     "output_type": "stream",
     "text": "ElasticSearch ne tourne pas\n"
    }
   ],
   "source": [
    "es = connect_elasticsearch()"
   ]
  },
  {
   "cell_type": "code",
   "execution_count": null,
   "metadata": {},
   "outputs": [],
   "source": [
    "def creation_index(_es):\n",
    "    _es.indices.create(index=\"item_rss\", ignore=400)\n",
    "    _es.indices.create(index=\"title\", ignore=400)\n",
    "    _es.indices.create(index=\"summary\", ignore=400)\n",
    "    _es.indices.create(index=\"description\", ignore=400)\n",
    "    _es.indices.create(index=\"all_links\", ignore=400)\n",
    "    _es.indices.create(index=\"source_post\", ignore=400)\n",
    "    _es.indices.create(index=\"lang\", ignore=400)\n",
    "    _es.indices.create(index=\"date\", ignore=400)\n",
    "    _es.indices.create(index=\"target_data\", ignore=400)"
   ]
  },
  {
   "cell_type": "code",
   "execution_count": null,
   "metadata": {},
   "outputs": [],
   "source": []
  },
  {
   "cell_type": "code",
   "execution_count": null,
   "metadata": {},
   "outputs": [],
   "source": [
    "def insertion_item(_es, _item):\n",
    "    _es.index(index=\"item_rss\", id=_item.id, body={'item' : _item})\n",
    "    _es.index(index=\"title\", id=_item.title, body={'id_item' : _item.id})\n",
    "    _es.index(index=\"title\", id=_item.summary, body={'id_item' : _item.id})\n",
    "    _es.index(index=\"title\", id=_item.description, body={'id_item' : _item.id})\n",
    "    _es.index(index=\"title\", id=_item.all_links, body={'id_item' : _item.id})\n",
    "    _es.index(index=\"title\", id=_item.source_post, body={'id_item' : _item.id})\n",
    "    _es.index(index=\"title\", id=_item.lang, body={'id_item' : _item.id})\n",
    "    _es.index(index=\"title\", id=_item.date, body={'id_item' : _item.id})\n",
    "    _es.index(index=\"title\", id=_item.target_data, body={'id_item' : _item.id})"
   ]
  },
  {
   "cell_type": "code",
   "execution_count": null,
   "metadata": {},
   "outputs": [],
   "source": []
  }
 ]
}