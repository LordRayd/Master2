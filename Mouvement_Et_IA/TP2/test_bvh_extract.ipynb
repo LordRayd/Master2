{
 "metadata": {
  "language_info": {
   "codemirror_mode": {
    "name": "ipython",
    "version": 3
   },
   "file_extension": ".py",
   "mimetype": "text/x-python",
   "name": "python",
   "nbconvert_exporter": "python",
   "pygments_lexer": "ipython3",
   "version": 3
  },
  "orig_nbformat": 2
 },
 "nbformat": 4,
 "nbformat_minor": 2,
 "cells": [
  {
   "cell_type": "code",
   "execution_count": null,
   "metadata": {},
   "outputs": [],
   "source": [
    "from bvh import Bvh\n",
    "import numpy as np # maths\n",
    "import matplotlib.pyplot as plt # graphiques"
   ]
  },
  {
   "cell_type": "code",
   "execution_count": null,
   "metadata": {},
   "outputs": [],
   "source": [
    "with open('walking.bvh') as f:\n",
    "    mocap = Bvh(f.read())\n",
    "[str(item) for item in mocap.root]\n",
    "with open('test.bvh', \"w\") as t:\n",
    "    t.write(str(mocap.data))"
   ]
  },
  {
   "cell_type": "code",
   "execution_count": null,
   "metadata": {},
   "outputs": [],
   "source": [
    "mocap.get_joints_names()"
   ]
  },
  {
   "cell_type": "code",
   "execution_count": null,
   "metadata": {},
   "outputs": [],
   "source": [
    "mocap.joint_parent('head').name"
   ]
  },
  {
   "cell_type": "code",
   "execution_count": null,
   "metadata": {},
   "outputs": [],
   "source": [
    "mocap.joint_offset('head')"
   ]
  }
 ]
}