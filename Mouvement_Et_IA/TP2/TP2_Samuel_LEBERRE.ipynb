{
 "nbformat": 4,
 "nbformat_minor": 2,
 "metadata": {
  "language_info": {
   "name": "python",
   "codemirror_mode": {
    "name": "ipython",
    "version": 3
   },
   "version": "3.7.3-final"
  },
  "orig_nbformat": 2,
  "file_extension": ".py",
  "mimetype": "text/x-python",
  "name": "python",
  "npconvert_exporter": "python",
  "pygments_lexer": "ipython3",
  "version": 3,
  "kernelspec": {
   "name": "python3",
   "display_name": "Python 3"
  }
 },
 "cells": [
  {
   "cell_type": "markdown",
   "metadata": {},
   "source": [
    "# TP Analyse en Compasante Principale"
   ]
  },
  {
   "cell_type": "code",
   "execution_count": 9,
   "metadata": {},
   "outputs": [],
   "source": [
    "from bvh import Bvh\n",
    "import numpy as np # maths\n",
    "import matplotlib.pyplot as plt # graphiques"
   ]
  },
  {
   "cell_type": "code",
   "execution_count": 2,
   "metadata": {},
   "outputs": [],
   "source": [
    "with open('walking.bvh') as f:\n",
    "    mocap = Bvh(f.read())\n",
    "[str(item) for item in mocap.root]\n",
    "with open('test.bvh', \"w\") as t:\n",
    "    t.write(str(mocap.data))"
   ]
  },
  {
   "cell_type": "code",
   "execution_count": 3,
   "metadata": {},
   "outputs": [
    {
     "output_type": "execute_result",
     "data": {
      "text/plain": [
       "['hip',\n",
       " 'lhipjoint',\n",
       " 'lfemur',\n",
       " 'ltibia',\n",
       " 'lfoot',\n",
       " 'ltoes',\n",
       " 'rhipjoint',\n",
       " 'rfemur',\n",
       " 'rtibia',\n",
       " 'rfoot',\n",
       " 'rtoes',\n",
       " 'lowerback',\n",
       " 'upperback',\n",
       " 'thorax',\n",
       " 'lowerneck',\n",
       " 'upperneck',\n",
       " 'head',\n",
       " 'lclavicle',\n",
       " 'lhumerus',\n",
       " 'lradius',\n",
       " 'lwrist',\n",
       " 'lhand',\n",
       " 'lfingers',\n",
       " 'lthumb',\n",
       " 'rclavicle',\n",
       " 'rhumerus',\n",
       " 'rradius',\n",
       " 'rwrist',\n",
       " 'rhand',\n",
       " 'rfingers',\n",
       " 'rthumb']"
      ]
     },
     "metadata": {},
     "execution_count": 3
    }
   ],
   "source": [
    "mocap.get_joints_names()"
   ]
  },
  {
   "cell_type": "code",
   "execution_count": 4,
   "metadata": {},
   "outputs": [
    {
     "output_type": "execute_result",
     "data": {
      "text/plain": [
       "'upperneck'"
      ]
     },
     "metadata": {},
     "execution_count": 4
    }
   ],
   "source": [
    "mocap.joint_parent('head').name"
   ]
  },
  {
   "cell_type": "code",
   "execution_count": 5,
   "metadata": {},
   "outputs": [
    {
     "output_type": "execute_result",
     "data": {
      "text/plain": [
       "(0.0554, 1.72452, 0.04558)"
      ]
     },
     "metadata": {},
     "execution_count": 5
    }
   ],
   "source": [
    "mocap.joint_offset('head')"
   ]
  },
  {
   "cell_type": "code",
   "execution_count": 6,
   "metadata": {},
   "outputs": [
    {
     "output_type": "stream",
     "name": "stdout",
     "text": [
      "2.2599\n-28.0158\n4.8398\n"
     ]
    }
   ],
   "source": [
    "print(mocap.frame_joint_channel(0, 'hip', 'Xrotation'))\n",
    "print(mocap.frame_joint_channel(0, 'hip', 'Yrotation'))\n",
    "print(mocap.frame_joint_channel(0, 'hip', 'Zrotation'))"
   ]
  },
  {
   "cell_type": "code",
   "execution_count": 22,
   "metadata": {
    "tags": []
   },
   "outputs": [
    {
     "output_type": "stream",
     "name": "stdout",
     "text": [
      "1.8134064516129036\n13.059951768199616\n[2.2599, 0.0, 4.3234, 15.4237, -12.0343, -23.0046, 0.0, -25.2282, 36.4763, -15.6608, -1.5081, 12.1188, 1.783, -4.7198, -4.0984, 5.0578, 2.2898, 0.0, 31.9811, -2.8182, -9.0682, 10.5467, -0.0, 0.5652, 0.0, 23.4995, -3.3015, 14.0946, -5.1937, -0.0, 2.4316]\n[ 3.41879937e-02 -1.38852462e-01  1.92190109e-01  1.04213965e+00\n -1.06031835e+00 -1.90031379e+00 -1.38852462e-01 -2.07057476e+00\n  2.65413641e+00 -1.33799931e+00 -2.54327620e-01  7.89083584e-01\n -2.32822082e-03 -5.00247364e-01 -4.52666791e-01  2.48423088e-01\n  3.64774355e-02 -1.38852462e-01  2.30993912e+00 -3.54641926e-01\n -8.33204184e-01  6.68707948e-01 -1.38852462e-01 -9.55751196e-02\n -1.38852462e-01  1.66050334e+00 -3.91648188e-01  9.40370513e-01\n -5.36533869e-01 -1.38852462e-01  4.73350560e-02]\n"
     ]
    }
   ],
   "source": [
    "acp_tab_x = []\n",
    "acp_tab_y = []\n",
    "acp_tab_z = []\n",
    "for i in range(0, 1):\n",
    "    for name in mocap.get_joints_names():\n",
    "        for rot in mocap.joint_channels(name):\n",
    "            if rot == 'Xrotation' :\n",
    "                acp_tab_x.append(mocap.frame_joint_channel(i, name, rot))\n",
    "print(np.mean(acp_tab_x))\n",
    "print(np.std(acp_tab_x))\n",
    "print(acp_tab_x)\n",
    "norm = (acp_tab_x - np.mean(acp_tab_x)) / np.std(acp_tab_x)\n",
    "\n",
    "print(np.max(norm))\n",
    "\n",
    "\n",
    "def write_bvh(file_name, bvh):\n",
    "    sep = 'Frame Time: ' + str(bvh.frame_time)\n",
    "    header = bvh.data.split(sep)[0]\n",
    "    i = 0\n",
    "    text = ''\n",
    "    for i in range(0, bvh.nframes):\n",
    "        for name in bvh.get_joints_names():\n",
    "            for rot in bvh.joint_channels(name):\n",
    "                text = text + \"%.4f\" % bvh.frame_joint_channel(i, name, rot) + ' '\n",
    "        text = text[:-1] + '\\n'\n",
    "    with open(file_name, \"w\") as t:\n",
    "        t.write(header + sep + '\\n')\n",
    "        t.write(str(text))\n",
    "\n",
    "#write_bvh('testWrite.bvh', mocap)"
   ]
  },
  {
   "cell_type": "code",
   "execution_count": 44,
   "metadata": {},
   "outputs": [],
   "source": [
    "\n",
    "with open('testwrite.bvh', \"w\") as t:\n",
    "    t.write(str(header + sep + '\\n'))"
   ]
  }
 ]
}