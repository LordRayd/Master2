{
 "nbformat": 4,
 "nbformat_minor": 2,
 "metadata": {
  "language_info": {
   "name": "python",
   "codemirror_mode": {
    "name": "ipython",
    "version": 3
   },
   "version": "3.7.3-final"
  },
  "orig_nbformat": 2,
  "file_extension": ".py",
  "mimetype": "text/x-python",
  "name": "python",
  "npconvert_exporter": "python",
  "pygments_lexer": "ipython3",
  "version": 3,
  "kernelspec": {
   "name": "python3",
   "display_name": "Python 3"
  }
 },
 "cells": [
  {
   "cell_type": "markdown",
   "metadata": {},
   "source": [
    "# TP Analyse en Compasante Principale\n",
    "Pour le visionnage des fichiers Bvh j'utilise le lecteur WAP3D que j'ai développé en groupe et trouvable à l'url suivante : <br>\n",
    "https://github.com/LordRayd/WAP3D <br>\n",
    "Les fichiers bvh de sortie se rende dans un dossier sortie"
   ]
  },
  {
   "source": [
    "## Gestion des Imports"
   ],
   "cell_type": "markdown",
   "metadata": {}
  },
  {
   "cell_type": "code",
   "execution_count": 1,
   "metadata": {},
   "outputs": [],
   "source": [
    "from bvh import Bvh # parser de Bvh\n",
    "import numpy as np # maths\n",
    "import os # Fonctions de l os"
   ]
  },
  {
   "source": [
    "## Compression du Bvh"
   ],
   "cell_type": "markdown",
   "metadata": {}
  },
  {
   "cell_type": "code",
   "execution_count": 2,
   "metadata": {
    "tags": []
   },
   "outputs": [],
   "source": [
    "def compression(fichier, k):\n",
    "    def write_bvh(file_name, bvh, M):\n",
    "        sep = 'Frame Time: ' + str(bvh.frame_time)\n",
    "        header = bvh.data.split(sep)[0]\n",
    "        text = ''\n",
    "        m,d = M.shape\n",
    "        for i in range(0, m):\n",
    "            for j in range(0,d):\n",
    "                text = text + \"%.4f\" % M[i][j] + ' '\n",
    "            text = text[:-1] + '\\n'\n",
    "        with open(file_name, \"w\") as t:\n",
    "            t.write(header + sep + '\\n')\n",
    "            t.write(str(text))\n",
    "\n",
    "    with open(fichier) as f:\n",
    "        mocap = Bvh(f.read())\n",
    "    mat = []\n",
    "    for i in range(0, mocap.nframes):\n",
    "        line = []\n",
    "        for name in mocap.get_joints_names():\n",
    "            for rot in mocap.joint_channels(name):\n",
    "                line.append(mocap.frame_joint_channel(i, name, rot))\n",
    "        mat.append(line)\n",
    "    u, s, vh = np.linalg.svd(mat, full_matrices=False)\n",
    "    u = u[:,:k]\n",
    "    s = s[:k]\n",
    "    vh = vh[:k]\n",
    "    M = np.dot(u * s, vh)\n",
    "    if os.path.exists('sortie') != True:\n",
    "        os.mkdir('sortie')\n",
    "    name_file_write = 'sortie/write_' + fichier +'_'+ \"%i\" % k + '.bvh'\n",
    "    write_bvh(name_file_write, mocap, M)"
   ]
  },
  {
   "source": [
    "## Different Cas Execution"
   ],
   "cell_type": "markdown",
   "metadata": {}
  },
  {
   "cell_type": "code",
   "execution_count": 3,
   "metadata": {},
   "outputs": [],
   "source": [
    "compression('walking.bvh',2)\n",
    "\n",
    "compression('walking.bvh',15)\n",
    "\n",
    "compression('walking.bvh',30)\n",
    "\n",
    "compression('walking.bvh',50)\n",
    "\n",
    "compression('walking.bvh',70)"
   ]
  },
  {
   "cell_type": "code",
   "execution_count": null,
   "metadata": {},
   "outputs": [],
   "source": []
  }
 ]
}