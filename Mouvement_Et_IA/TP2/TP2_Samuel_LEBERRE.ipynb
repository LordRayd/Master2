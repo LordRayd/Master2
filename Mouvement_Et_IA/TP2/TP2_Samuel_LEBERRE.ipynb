{
 "nbformat": 4,
 "nbformat_minor": 2,
 "metadata": {
  "language_info": {
   "name": "python",
   "codemirror_mode": {
    "name": "ipython",
    "version": 3
   },
   "version": "3.7.6-final"
  },
  "orig_nbformat": 2,
  "file_extension": ".py",
  "mimetype": "text/x-python",
  "name": "python",
  "npconvert_exporter": "python",
  "pygments_lexer": "ipython3",
  "version": 3,
  "kernelspec": {
   "name": "python3",
   "display_name": "Python 3"
  }
 },
 "cells": [
  {
   "cell_type": "markdown",
   "metadata": {},
   "source": [
    "# TP Analyse en Compasante Principale"
   ]
  },
  {
   "cell_type": "code",
   "execution_count": 9,
   "metadata": {},
   "outputs": [],
   "source": [
    "from bvh import Bvh\n",
    "with open('walking.bvh') as f:\n",
    "    mocap = Bvh(f.read())\n",
    "[str(item) for item in mocap.root]\n",
    "with open('test.bvh', \"w\") as t:\n",
    "    t.write(str(mocap.data))"
   ]
  },
  {
   "cell_type": "code",
   "execution_count": 6,
   "metadata": {},
   "outputs": [
    {
     "data": {
      "text/plain": "['hip',\n 'lhipjoint',\n 'lfemur',\n 'ltibia',\n 'lfoot',\n 'ltoes',\n 'rhipjoint',\n 'rfemur',\n 'rtibia',\n 'rfoot',\n 'rtoes',\n 'lowerback',\n 'upperback',\n 'thorax',\n 'lowerneck',\n 'upperneck',\n 'head',\n 'lclavicle',\n 'lhumerus',\n 'lradius',\n 'lwrist',\n 'lhand',\n 'lfingers',\n 'lthumb',\n 'rclavicle',\n 'rhumerus',\n 'rradius',\n 'rwrist',\n 'rhand',\n 'rfingers',\n 'rthumb']"
     },
     "execution_count": 6,
     "metadata": {},
     "output_type": "execute_result"
    }
   ],
   "source": [
    "mocap.get_joints_names()"
   ]
  },
  {
   "cell_type": "code",
   "execution_count": 29,
   "metadata": {},
   "outputs": [
    {
     "data": {
      "text/plain": "'upperneck'"
     },
     "execution_count": 29,
     "metadata": {},
     "output_type": "execute_result"
    }
   ],
   "source": [
    "mocap.joint_parent('head').name"
   ]
  },
  {
   "cell_type": "code",
   "execution_count": 12,
   "metadata": {},
   "outputs": [
    {
     "data": {
      "text/plain": "(0.0554, 1.72452, 0.04558)"
     },
     "execution_count": 12,
     "metadata": {},
     "output_type": "execute_result"
    }
   ],
   "source": [
    "mocap.joint_offset('head')"
   ]
  },
  {
   "cell_type": "code",
   "execution_count": 16,
   "metadata": {},
   "outputs": [
    {
     "name": "stdout",
     "output_type": "stream",
     "text": "2.2599\n-28.0158\n4.8398\n"
    }
   ],
   "source": [
    "print(mocap.frame_joint_channel(0, 'hip', 'Xrotation'))\n",
    "print(mocap.frame_joint_channel(0, 'hip', 'Yrotation'))\n",
    "print(mocap.frame_joint_channel(0, 'hip', 'Zrotation'))"
   ]
  },
  {
   "cell_type": "code",
   "execution_count": 46,
   "metadata": {},
   "outputs": [
    {
     "name": "stdout",
     "output_type": "stream",
     "text": "Yrotation\nXrotation\nZrotation\nYrotation\nXrotation\nZrotation\nYrotation\nXrotation\nZrotation\nYrotation\nXrotation\nZrotation\nYrotation\nXrotation\nZrotation\nYrotation\nXrotation\nZrotation\nYrotation\nXrotation\nZrotation\nYrotation\nXrotation\nZrotation\nYrotation\nXrotation\nZrotation\nYrotation\nXrotation\nZrotation\nYrotation\nXrotation\nZrotation\nYrotation\nXrotation\nZrotation\nYrotation\nXrotation\nZrotation\nYrotation\nXrotation\nZrotation\nYrotation\nXrotation\nZrotation\nYrotation\nXrotation\nZrotation\nYrotation\nXrotation\nZrotation\nYrotation\nXrotation\nZrotation\nYrotation\nXrotation\nZrotation\nYrotation\nXrotation\nZrotation\nYrotation\nXrotation\nZrotation\nYrotation\nXrotation\nZrotation\nYrotation\nXrotation\nZrotation\nYrotation\nXrotation\nZrotation\nYrotation\nXrotation\nZrotation\nYrotation\nXrotation\nZrotation\nYrotation\nXrotation\nXposition\nYposition\nZposition\nZrotation\nYrotation\nXrotation\nZrotation\nYrotation\nXrotation\nZrotation\nYrotation\nXrotation\nZrotation\nYrotation\nXrotation\nZrotation\nYrotation\nXrotation\nZrotation\nYrotation\nXrotation\nZrotation\nYrotation\nXrotation\nZrotation\nYrotation\nXrotation\nZrotation\nYrotation\nXrotation\nZrotation\nYrotation\nXrotation\nZrotation\nYrotation\nXrotation\nZrotation\nYrotation\nXrotation\nZrotation\nYrotation\nXrotation\nZrotation\nYrotation\nXrotation\nZrotation\nYrotation\nXrotation\nZrotation\nYrotation\nXrotation\nZrotation\nYrotation\nXrotation\nZrotation\nYrotation\nXrotation\nZrotation\nYrotation\nXrotation\nZrotation\nYrotation\nXrotation\nZrotation\nYrotation\nXrotation\nZrotation\nYrotation\nXrotation\nZrotation\nYrotation\nXrotation\nZrotation\nYrotation\nXrotation\nZrotation\nYrotation\nXrotation\nZrotation\nYrotation\nXrotation\nZrotation\nYrotation\nXrotation\nZrotation\nYrotation\nXrotation\nZrotation\nYrotation\nXrotation\nZrotation\nYrotation\nXrotation\nZrotation\nYrotation\nXrotation\nXposition\nYposition\nZposition\nZrotation\nYrotation\nXrotation\nZrotation\nYrotation\nXrotation\nZrotation\nYrotation\nXrotation\nZrotation\nYrotation\nXrotation\nZrotation\nYrotation\nXrotation\nZrotation\nYrotation\nXrotation\nZrotation\nYrotation\nXrotation\nZrotation\nYrotation\nXrotation\nZrotation\nYrotation\nXrotation\nZrotation\nYrotation\nXrotation\nZrotation\nYrotation\nXrotation\nZrotation\nYrotation\nXrotation\nZrotation\nYrotation\nXrotation\nZrotation\nYrotation\nXrotation\nZrotation\nYrotation\nXrotation\nZrotation\nYrotation\nXrotation\nZrotation\nYrotation\nXrotation\nZrotation\nYrotation\nXrotation\nZrotation\nYrotation\nXrotation\nZrotation\nYrotation\nXrotation\nZrotation\nYrotation\nXrotation\nZrotation\nYrotation\nXrotation\nZrotation\nYrotation\nXrotation\nZrotation\nYrotation\nXrotation\nZrotation\nYrotation\nXrotation\nZrotation\nYrotation\nXrotation\nZrotation\nYrotation\nXrotation\nZrotation\nYrotation\nXrotation\nZrotation\nYrotation\nXrotation\nZrotation\nYrotation\nXrotation\nZrotation\nYrotation\nXrotation\nXposition\nYposition\nZposition\nZrotation\nYrotation\nXrotation\nZrotation\nYrotation\nXrotation\nZrotation\nYrotation\nXrotation\nZrotation\nYrotation\nXrotation\nZrotation\nYrotation\nXrotation\nZrotation\nYrotation\nXrotation\nZrotation\nYrotation\nXrotation\nZrotation\nYrotation\nXrotation\nZrotation\nYrotation\nXrotation\nZrotation\nYrotation\nXrotation\nZrotation\nYrotation\nXrotation\nZrotation\nYrotation\nXrotation\nZrotation\nYrotation\nXrotation\nZrotation\nYrotation\nXrotation\nZrotation\nYrotation\nXrotation\nZrotation\nYrotation\nXrotation\nZrotation\nYrotation\nXrotation\nZrotation\nYrotation\nXrotation\nZrotation\nYrotation\nXrotation\nZrotation\nYrotation\nXrotation\nZrotation\nYrotation\nXrotation\nZrotation\nYrotation\nXrotation\nZrotation\nYrotation\nXrotation\nZrotation\nYrotation\nXrotation\nZrotation\nYrotation\nXrotation\nZrotation\nYrotation\nXrotation\nZrotation\nYrotation\nXrotation\nZrotation\nYrotation\nXrotation\nZrotation\nYrotation\nXrotation\nZrotation\nYrotation\nXrotation\nZrotation\nYrotation\nXrotation\nXposition\nYposition\nZposition\nZrotation\nYrotation\nXrotation\nZrotation\nYrotation\nXrotation\nZrotation\nYrotation\nXrotation\nZrotation\nYrotation\nXrotation\nZrotation\nYrotation\nXrotation\nZrotation\nYrotation\nXrotation\nZrotation\nYrotation\nXrotation\nZrotation\nYrotation\nXrotation\nZrotation\nYrotation\nXrotation\nZrotation\nYrotation\nXrotation\nZrotation\nYrotation\nXrotation\nZrotation\nYrotation\nXrotation\nZrotation\nYrotation\nXrotation\nZrotation\nYrotation\nXrotation\nZrotation\nYrotation\nXrotation\nZrotation\nYrotation\nXrotation\nZrotation\nYrotation\nXrotation\nZrotation\nYrotation\nXrotation\nZrotation\nYrotation\nXrotation\nZrotation\nYrotation\nXrotation\nZrotation\nYrotation\nXrotation\nZrotation\nYrotation\nXrotation\nZrotation\nYrotation\nXrotation\nZrotation\nYrotation\nXrotation\nZrotation\nYrotation\nXrotation\nZrotation\nYrotation\nXrotation\nZrotation\nYrotation\nXrotation\nZrotation\nYrotation\nXrotation\nZrotation\nYrotation\nXrotation\nZrotation\nYrotation\nXrotation\nZrotation\nYrotation\nXrotation\nXposition\nYposition\nZposition\nZrotation\nYrotation\nXrotation\nZrotation\nYrotation\nXrotation\nZrotation\nYrotation\nXrotation\nZrotation\nYrotation\nXrotation\nZrotation\nYrotation\nXrotation\nZrotation\nYrotation\nXrotation\nZrotation\nYrotation\nXrotation\nZrotation\nYrotation\nXrotation\nZrotation\nYrotation\nXrotation\nZrotation\nYrotation\nXrotation\nZrotation\nYrotation\nXrotation\nZrotation\nYrotation\nXrotation\nZrotation\nYrotation\nXrotation\nZrotation\nYrotation\nXrotation\nZrotation\nYrotation\nXrotation\nZrotation\nYrotation\nXrotation\nZrotation\nYrotation\nXrotation\nZrotation\nYrotation\nXrotation\nZrotation\nYrotation\nXrotation\nZrotation\nYrotation\nXrotation\nZrotation\nYrotation\nXrotation\nZrotation\nYrotation\nXrotation\nZrotation\nYrotation\nXrotation\nZrotation\nYrotation\nXrotation\nZrotation\nYrotation\nXrotation\nZrotation\nYrotation\nXrotation\nZrotation\nYrotation\nXrotation\nZrotation\nYrotation\nXrotation\nZrotation\nYrotation\nXrotation\nZrotation\nYrotation\nXrotation\nZrotation\nYrotation\nXrotation\nXposition\nYposition\nZposition\nZrotation\nYrotation\nXrotation\nZrotation\nYrotation\nXrotation\nZrotation\nYrotation\nXrotation\nZrotation\nYrotation\nXrotation\nZrotation\nYrotation\nXrotation\nZrotation\nYrotation\nXrotation\nZrotation\nYrotation\nXrotation\nZrotation\nYrotation\nXrotation\nZrotation\nYrotation\nXrotation\nZrotation\nYrotation\nXrotation\nZrotation\nYrotation\nXrotation\nZrotation\nYrotation\nXrotation\nZrotation\nYrotation\nXrotation\nZrotation\nYrotation\nXrotation\nZrotation\nYrotation\nXrotation\nZrotation\nYrotation\nXrotation\nZrotation\nYrotation\nXrotation\nZrotation\nYrotation\nXrotation\nZrotation\nYrotation\nXrotation\nZrotation\nYrotation\nXrotation\nZrotation\nYrotation\nXrotation\nZrotation\nYrotation\nXrotation\nZrotation\nYrotation\nXrotation\nZrotation\nYrotation\nXrotation\nZrotation\nYrotation\nXrotation\nZrotation\nYrotation\nXrotation\nZrotation\nYrotation\nXrotation\nZrotation\nYrotation\nXrotation\nZrotation\nYrotation\nXrotation\nZrotation\nYrotation\nXrotation\nZrotation\nYrotation\nXrotation\nXposition\nYposition\nZposition\nZrotation\nYrotation\nXrotation\nZrotation\nYrotation\nXrotation\nZrotation\nYrotation\nXrotation\nZrotation\nYrotation\nXrotation\nZrotation\nYrotation\nXrotation\nZrotation\nYrotation\nXrotation\nZrotation\nYrotation\nXrotation\nZrotation\nYrotation\nXrotation\nZrotation\nYrotation\nXrotation\nZrotation\nYrotation\nXrotation\nZrotation\nYrotation\nXrotation\nZrotation\nYrotation\nXrotation\nZrotation\nYrotation\nXrotation\nZrotation\nYrotation\nXrotation\nZrotation\nYrotation\nXrotation\nZrotation\nYrotation\nXrotation\nZrotation\nYrotation\nXrotation\nZrotation\nYrotation\nXrotation\nZrotation\nYrotation\nXrotation\nZrotation\nYrotation\nXrotation\nZrotation\nYrotation\nXrotation\nZrotation\nYrotation\nXrotation\nZrotation\nYrotation\nXrotation\nZrotation\nYrotation\nXrotation\nZrotation\nYrotation\nXrotation\nZrotation\nYrotation\nXrotation\nZrotation\nYrotation\nXrotation\nZrotation\nYrotation\nXrotation\nZrotation\nYrotation\nXrotation\nZrotation\nYrotation\nXrotation\nZrotation\nYrotation\nXrotation\nXposition\nYposition\nZposition\nZrotation\nYrotation\nXrotation\nZrotation\nYrotation\nXrotation\nZrotation\nYrotation\nXrotation\nZrotation\nYrotation\nXrotation\nZrotation\nYrotation\nXrotation\nZrotation\nYrotation\nXrotation\nZrotation\nYrotation\nXrotation\nZrotation\nYrotation\nXrotation\nZrotation\nYrotation\nXrotation\nZrotation\nYrotation\nXrotation\nZrotation\nYrotation\nXrotation\nZrotation\nYrotation\nXrotation\nZrotation\nYrotation\nXrotation\nZrotation\nYrotation\nXrotation\nZrotation\nYrotation\nXrotation\nZrotation\nYrotation\nXrotation\nZrotation\nYrotation\nXrotation\nZrotation\nYrotation\nXrotation\nZrotation\nYrotation\nXrotation\nZrotation\nYrotation\nXrotation\nZrotation\nYrotation\nXrotation\nZrotation\nYrotation\nXrotation\nZrotation\nYrotation\nXrotation\nZrotation\nYrotation\nXrotation\nZrotation\nYrotation\nXrotation\nZrotation\nYrotation\nXrotation\nZrotation\nYrotation\nXrotation\nZrotation\nYrotation\nXrotation\nZrotation\nYrotation\nXrotation\nZrotation\nYrotation\nXrotation\nZrotation\nYrotation\nXrotation\nXposition\nYposition\nZposition\nZrotation\nYrotation\nXrotation\nZrotation\nYrotation\nXrotation\nZrotation\nYrotation\nXrotation\nZrotation\nYrotation\nXrotation\nZrotation\nYrotation\nXrotation\nZrotation\nYrotation\nXrotation\nZrotation\nYrotation\nXrotation\nZrotation\nYrotation\nXrotation\nZrotation\nYrotation\nXrotation\nZrotation\nYrotation\nXrotation\nZrotation\nYrotation\nXrotation\nZrotation\nYrotation\nXrotation\nZrotation\nYrotation\nXrotation\nZrotation\nYrotation\nXrotation\nZrotation\nYrotation\nXrotation\nZrotation\nYrotation\nXrotation\nZrotation\nYrotation\nXrotation\nZrotation\nYrotation\nXrotation\nZrotation\nYrotation\nXrotation\nZrotation\nYrotation\nXrotation\nZrotation\nYrotation\nXrotation\nZrotation\nYrotation\nXrotation\nZrotation\nYrotation\nXrotation\nZrotation\nYrotation\nXrotation\nZrotation\nYrotation\nXrotation\nZrotation\nYrotation\nXrotation\nZrotation\nYrotation\nXrotation\nZrotation\nYrotation\nXrotation\nZrotation\nYrotation\nXrotation\nZrotation\nYrotation\nXrotation\nZrotation\nYrotation\nXrotation\nXposition\nYposition\nZposition\nZrotation\nYrotation\nXrotation\nZrotation\nYrotation\nXrotation\nZrotation\nYrotation\nXrotation\nZrotation\nYrotation\nXrotation\nZrotation\nYrotation\nXrotation\nZrotation\nYrotation\nXrotation\nZrotation\nYrotation\nXrotation\nZrotation\nYrotation\nXrotation\nZrotation\nYrotation\nXrotation\nZrotation\nYrotation\nXrotation\nZrotation\nYrotation\nXrotation\nZrotation\nYrotation\nXrotation\nZrotation\nYrotation\nXrotation\nZrotation\nYrotation\nXrotation\nZrotation\nYrotation\nXrotation\nZrotation\nYrotation\nXrotation\nZrotation\nYrotation\nXrotation\nZrotation\nYrotation\nXrotation\nZrotation\nYrotation\nXrotation\nZrotation\nYrotation\nXrotation\nZrotation\nYrotation\nXrotation\nZrotation\nYrotation\nXrotation\nZrotation\nYrotation\nXrotation\nZrotation\nYrotation\nXrotation\nZrotation\nYrotation\nXrotation\nZrotation\nYrotation\nXrotation\nZrotation\nYrotation\nXrotation\nZrotation\nYrotation\nXrotation\nZrotation\nYrotation\nXrotation\nZrotation\nYrotation\nXrotation\nZrotation\nYrotation\nXrotation\nXposition\nYposition\nZposition\nZrotation\nYrotation\nXrotation\nZrotation\nYrotation\nXrotation\nZrotation\nYrotation\nXrotation\nZrotation\nYrotation\nXrotation\nZrotation\nYrotation\nXrotation\nZrotation\nYrotation\nXrotation\nZrotation\nYrotation\nXrotation\nZrotation\nYrotation\nXrotation\nZrotation\nYrotation\nXrotation\nZrotation\nYrotation\nXrotation\nZrotation\nYrotation\nXrotation\nZrotation\nYrotation\nXrotation\nZrotation\nYrotation\nXrotation\nZrotation\nYrotation\nXrotation\nZrotation\nYrotation\nXrotation\nZrotation\nYrotation\nXrotation\nZrotation\nYrotation\nXrotation\nZrotation\nYrotation\nXrotation\nZrotation\nYrotation\nXrotation\nZrotation\nYrotation\nXrotation\nZrotation\nYrotation\nXrotation\nZrotation\nYrotation\nXrotation\nZrotation\nYrotation\nXrotation\nZrotation\nYrotation\nXrotation\nZrotation\nYrotation\nXrotation\nZrotation\nYrotation\nXrotation\nZrotation\nYrotation\nXrotation\nZrotation\nYrotation\nXrotation\nZrotation\nYrotation\nXrotation\nZrotation\nYrotation\nXrotation\nZrotation\nYrotation\nXrotation\nXposition\nYposition\nZposition\nZrotation\nYrotation\nXrotation\nZrotation\nYrotation\nXrotation\nZrotation\nYrotation\nXrotation\nZrotation\nYrotation\nXrotation\nZrotation\nYrotation\nXrotation\nZrotation\nYrotation\nXrotation\nZrotation\nYrotation\nXrotation\nZrotation\nYrotation\nXrotation\nZrotation\nYrotation\nXrotation\nZrotation\nYrotation\nXrotation\nZrotation\nYrotation\nXrotation\nZrotation\nYrotation\nXrotation\nZrotation\nYrotation\nXrotation\nZrotation\nYrotation\nXrotation\nZrotation\nYrotation\nXrotation\nZrotation\nYrotation\nXrotation\nZrotation\nYrotation\nXrotation\nZrotation\nYrotation\nXrotation\nZrotation\nYrotation\nXrotation\nZrotation\nYrotation\nXrotation\nZrotation\nYrotation\nXrotation\nZrotation\nYrotation\nXrotation\nZrotation\nYrotation\nXrotation\nZrotation\nYrotation\nXrotation\nZrotation\nYrotation\nXrotation\nZrotation\nYrotation\nXrotation\nZrotation\nYrotation\nXrotation\nZrotation\nYrotation\nXrotation\nZrotation\nYrotation\nXrotation\nZrotation\nYrotation\nXrotation\nZrotation\nYrotation\nXrotation\nXposition\nYposition\nZposition\nZrotation\nYrotation\nXrotation\nZrotation\nYrotation\nXrotation\nZrotation\nYrotation\nXrotation\nZrotation\nYrotation\nXrotation\nZrotation\nYrotation\nXrotation\nZrotation\nYrotation\nXrotation\nZrotation\nYrotation\nXrotation\nZrotation\nYrotation\nXrotation\nZrotation\nYrotation\nXrotation\nZrotation\nYrotation\nXrotation\nZrotation\nYrotation\nXrotation\nZrotation\nYrotation\nXrotation\nZrotation\nYrotation\nXrotation\nZrotation\nYrotation\nXrotation\nZrotation\nYrotation\nXrotation\nZrotation\nYrotation\nXrotation\nZrotation\nYrotation\nXrotation\nZrotation\nYrotation\nXrotation\nZrotation\nYrotation\nXrotation\nZrotation\nYrotation\nXrotation\nZrotation\nYrotation\nXrotation\nZrotation\nYrotation\nXrotation\nZrotation\nYrotation\nXrotation\nZrotation\nYrotation\nXrotation\nZrotation\nYrotation\nXrotation\nZrotation\nYrotation\nXrotation\nZrotation\nYrotation\nXrotation\nZrotation\nYrotation\nXrotation\nZrotation\nYrotation\nXrotation\nZrotation\nYrotation\nXrotation\nZrotation\nYrotation\nXrotation\nXposition\nYposition\nZposition\nZrotation\nYrotation\nXrotation\nZrotation\nYrotation\nXrotation\nZrotation\nYrotation\nXrotation\nZrotation\nYrotation\nXrotation\nZrotation\nYrotation\nXrotation\nZrotation\nYrotation\nXrotation\nZrotation\nYrotation\nXrotation\nZrotation\nYrotation\nXrotation\nZrotation\nYrotation\nXrotation\nZrotation\nYrotation\nXrotation\nZrotation\nYrotation\nXrotation\nZrotation\nYrotation\nXrotation\nZrotation\nYrotation\nXrotation\nZrotation\nYrotation\nXrotation\nZrotation\nYrotation\nXrotation\nZrotation\nYrotation\nXrotation\nZrotation\nYrotation\nXrotation\nZrotation\nYrotation\nXrotation\nZrotation\nYrotation\nXrotation\nZrotation\nYrotation\nXrotation\nZrotation\nYrotation\nXrotation\nZrotation\nYrotation\nXrotation\nZrotation\nYrotation\nXrotation\nZrotation\nYrotation\nXrotation\nZrotation\nYrotation\nXrotation\nZrotation\nYrotation\nXrotation\nZrotation\nYrotation\nXrotation\nZrotation\nYrotation\nXrotation\nZrotation\nYrotation\nXrotation\nZrotation\nYrotation\nXrotation\nZrotation\nYrotation\nXrotation\nXposition\nYposition\nZposition\nZrotation\nYrotation\nXrotation\nZrotation\nYrotation\nXrotation\nZrotation\nYrotation\nXrotation\nZrotation\nYrotation\nXrotation\nZrotation\nYrotation\nXrotation\nZrotation\nYrotation\nXrotation\nZrotation\nYrotation\nXrotation\nZrotation\nYrotation\nXrotation\nZrotation\nYrotation\nXrotation\nZrotation\nYrotation\nXrotation\nZrotation\nYrotation\nXrotation\nZrotation\nYrotation\nXrotation\nZrotation\nYrotation\nXrotation\nZrotation\nYrotation\nXrotation\nZrotation\nYrotation\nXrotation\nZrotation\nYrotation\nXrotation\nZrotation\nYrotation\nXrotation\nZrotation\nYrotation\nXrotation\nZrotation\nYrotation\nXrotation\nZrotation\nYrotation\nXrotation\nZrotation\nYrotation\nXrotation\nZrotation\nYrotation\nXrotation\nZrotation\nYrotation\nXrotation\nZrotation\nYrotation\nXrotation\nZrotation\nYrotation\nXrotation\nZrotation\nYrotation\nXrotation\nZrotation\nYrotation\nXrotation\nZrotation\nYrotation\nXrotation\nZrotation\nYrotation\nXrotation\nZrotation\nYrotation\nXrotation\nZrotation\nYrotation\nXrotation\nXposition\nYposition\nZposition\nZrotation\nYrotation\nXrotation\nZrotation\nYrotation\nXrotation\nZrotation\nYrotation\nXrotation\nZrotation\nYrotation\nXrotation\nZrotation\nYrotation\nXrotation\nZrotation\nYrotation\nXrotation\nZrotation\nYrotation\nXrotation\nZrotation\nYrotation\nXrotation\nZrotation\nYrotation\nXrotation\nZrotation\nYrotation\nXrotation\nZrotation\nYrotation\nXrotation\nZrotation\nYrotation\nXrotation\nZrotation\nYrotation\nXrotation\nZrotation\nYrotation\nXrotation\nZrotation\nYrotation\nXrotation\nZrotation\nYrotation\nXrotation\nZrotation\nYrotation\nXrotation\nZrotation\nYrotation\nXrotation\nZrotation\nYrotation\nXrotation\nZrotation\nYrotation\nXrotation\nZrotation\nYrotation\nXrotation\nZrotation\nYrotation\nXrotation\nZrotation\nYrotation\nXrotation\nZrotation\nYrotation\nXrotation\nZrotation\nYrotation\nXrotation\nZrotation\nYrotation\nXrotation\nZrotation\nYrotation\nXrotation\nZrotation\nYrotation\nXrotation\nZrotation\nYrotation\nXrotation\nZrotation\nYrotation\nXrotation\nZrotation\nYrotation\nXrotation\nXposition\nYposition\nZposition\nZrotation\nYrotation\nXrotation\nZrotation\nYrotation\nXrotation\nZrotation\nYrotation\nXrotation\nZrotation\nYrotation\nXrotation\nZrotation\nYrotation\nXrotation\nZrotation\nYrotation\nXrotation\nZrotation\nYrotation\nXrotation\nZrotation\nYrotation\nXrotation\nZrotation\nYrotation\nXrotation\nZrotation\nYrotation\nXrotation\nZrotation\nYrotation\nXrotation\nZrotation\nYrotation\nXrotation\nZrotation\nYrotation\nXrotation\nZrotation\nYrotation\nXrotation\nZrotation\nYrotation\nXrotation\nZrotation\nYrotation\nXrotation\nZrotation\nYrotation\nXrotation\nZrotation\nYrotation\nXrotation\nZrotation\nYrotation\nXrotation\nZrotation\nYrotation\nXrotation\nZrotation\nYrotation\nXrotation\nZrotation\nYrotation\nXrotation\nZrotation\nYrotation\nXrotation\nZrotation\nYrotation\nXrotation\nZrotation\nYrotation\nXrotation\nZrotation\nYrotation\nXrotation\nZrotation\nYrotation\nXrotation\nZrotation\nYrotation\nXrotation\nZrotation\nYrotation\nXrotation\nZrotation\nYrotation\nXrotation\nZrotation\nYrotation\nXrotation\nXposition\nYposition\nZposition\nZrotation\nYrotation\nXrotation\nZrotation\nYrotation\nXrotation\nZrotation\nYrotation\nXrotation\nZrotation\nYrotation\nXrotation\nZrotation\nYrotation\nXrotation\nZrotation\nYrotation\nXrotation\nZrotation\nYrotation\nXrotation\nZrotation\nYrotation\nXrotation\nZrotation\nYrotation\nXrotation\nZrotation\nYrotation\nXrotation\nZrotation\nYrotation\nXrotation\nZrotation\nYrotation\nXrotation\nZrotation\nYrotation\nXrotation\nZrotation\nYrotation\nXrotation\nZrotation\nYrotation\nXrotation\nZrotation\nYrotation\nXrotation\nZrotation\nYrotation\nXrotation\nZrotation\nYrotation\nXrotation\nZrotation\nYrotation\nXrotation\nZrotation\nYrotation\nXrotation\nZrotation\nYrotation\nXrotation\nZrotation\nYrotation\nXrotation\nZrotation\nYrotation\nXrotation\nZrotation\nYrotation\nXrotation\nZrotation\nYrotation\nXrotation\nZrotation\nYrotation\nXrotation\nZrotation\nYrotation\nXrotation\nZrotation\nYrotation\nXrotation\nZrotation\nYrotation\nXrotation\nZrotation\nYrotation\nXrotation\nZrotation\nYrotation\nXrotation\nXposition\nYposition\nZposition\nZrotation\nYrotation\nXrotation\nZrotation\nYrotation\nXrotation\nZrotation\nYrotation\nXrotation\nZrotation\nYrotation\nXrotation\nZrotation\nYrotation\nXrotation\nZrotation\nYrotation\nXrotation\nZrotation\nYrotation\nXrotation\nZrotation\nYrotation\nXrotation\nZrotation\nYrotation\nXrotation\nZrotation\nYrotation\nXrotation\nZrotation\nYrotation\nXrotation\nZrotation\nYrotation\nXrotation\nZrotation\nYrotation\nXrotation\nZrotation\nYrotation\nXrotation\nZrotation\nYrotation\nXrotation\nZrotation\nYrotation\nXrotation\nZrotation\nYrotation\nXrotation\nZrotation\nYrotation\nXrotation\nZrotation\nYrotation\nXrotation\nZrotation\nYrotation\nXrotation\nZrotation\nYrotation\nXrotation\nZrotation\nYrotation\nXrotation\nZrotation\nYrotation\nXrotation\nZrotation\nYrotation\nXrotation\nZrotation\nYrotation\nXrotation\nZrotation\nYrotation\nXrotation\nZrotation\nYrotation\nXrotation\nZrotation\nYrotation\nXrotation\nZrotation\nYrotation\nXrotation\nZrotation\nYrotation\nXrotation\nZrotation\nYrotation\nXrotation\nXposition\nYposition\nZposition\nZrotation\nYrotation\nXrotation\nZrotation\nYrotation\nXrotation\nZrotation\nYrotation\nXrotation\nZrotation\nYrotation\nXrotation\nZrotation\nYrotation\nXrotation\nZrotation\nYrotation\nXrotation\nZrotation\nYrotation\nXrotation\nZrotation\nYrotation\nXrotation\nZrotation\nYrotation\nXrotation\nZrotation\nYrotation\nXrotation\nZrotation\nYrotation\nXrotation\nZrotation\nYrotation\nXrotation\nZrotation\nYrotation\nXrotation\nZrotation\nYrotation\nXrotation\nZrotation\nYrotation\nXrotation\nZrotation\nYrotation\nXrotation\nZrotation\nYrotation\nXrotation\nZrotation\nYrotation\nXrotation\nZrotation\nYrotation\nXrotation\nZrotation\nYrotation\nXrotation\nZrotation\nYrotation\nXrotation\nZrotation\nYrotation\nXrotation\nZrotation\nYrotation\nXrotation\nZrotation\nYrotation\nXrotation\nZrotation\nYrotation\nXrotation\nZrotation\nYrotation\nXrotation\nZrotation\nYrotation\nXrotation\nZrotation\nYrotation\nXrotation\nZrotation\nYrotation\nXrotation\nZrotation\nYrotation\nXrotation\nZrotation\nYrotation\nXrotation\n"
    }
   ],
   "source": [
    "sep = 'Frame Time: ' + str(mocap.frame_time)\n",
    "header = mocap.data.split(sep)[0]\n",
    "\n",
    "acp_tab_x = []\n",
    "acp_tab_y = []\n",
    "acp_tab_z = []\n",
    "\n",
    "i = 0\n",
    "text = ''\n",
    "for i in range(0, mocap.nframes):\n",
    "    for name in mocap.get_joints_names():\n",
    "        for rot in mocap.joint_channels(name):\n",
    "            text = text + \"%.4f\" % mocap.frame_joint_channel(i, name, rot) + ' '\n",
    "    text = text[:-1] + '\\n'\n",
    "with open('testwrite.bvh', \"w\") as t:\n",
    "    t.write(header + sep + '\\n')\n",
    "    t.write(str(text))"
   ]
  },
  {
   "cell_type": "code",
   "execution_count": 44,
   "metadata": {},
   "outputs": [],
   "source": [
    "\n",
    "with open('testwrite.bvh', \"w\") as t:\n",
    "    t.write(str(header + sep + '\\n'))"
   ]
  }
 ]
}