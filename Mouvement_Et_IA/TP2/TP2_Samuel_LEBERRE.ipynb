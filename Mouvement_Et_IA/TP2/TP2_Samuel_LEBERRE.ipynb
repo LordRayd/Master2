{
 "nbformat": 4,
 "nbformat_minor": 2,
 "metadata": {
  "language_info": {
   "name": "python",
   "codemirror_mode": {
    "name": "ipython",
    "version": 3
   },
   "version": "3.7.3-final"
  },
  "orig_nbformat": 2,
  "file_extension": ".py",
  "mimetype": "text/x-python",
  "name": "python",
  "npconvert_exporter": "python",
  "pygments_lexer": "ipython3",
  "version": 3,
  "kernelspec": {
   "name": "python3",
   "display_name": "Python 3"
  }
 },
 "cells": [
  {
   "cell_type": "markdown",
   "metadata": {},
   "source": [
    "# TP Analyse en Compasante Principale"
   ]
  },
  {
   "cell_type": "code",
   "execution_count": 1,
   "metadata": {},
   "outputs": [],
   "source": [
    "from bvh import Bvh\n",
    "import numpy as np # maths\n",
    "import matplotlib.pyplot as plt # graphiques"
   ]
  },
  {
   "cell_type": "code",
   "execution_count": 5,
   "metadata": {},
   "outputs": [
    {
     "output_type": "execute_result",
     "data": {
      "text/plain": [
       "(0.0554, 1.72452, 0.04558)"
      ]
     },
     "metadata": {},
     "execution_count": 5
    }
   ],
   "source": [
    "mocap.joint_offset('head')"
   ]
  },
  {
   "cell_type": "code",
   "execution_count": 6,
   "metadata": {},
   "outputs": [
    {
     "output_type": "stream",
     "name": "stdout",
     "text": [
      "2.2599\n-28.0158\n4.8398\n"
     ]
    }
   ],
   "source": [
    "print(mocap.frame_joint_channel(0, 'hip', 'Xrotation'))\n",
    "print(mocap.frame_joint_channel(0, 'hip', 'Yrotation'))\n",
    "print(mocap.frame_joint_channel(0, 'hip', 'Zrotation'))"
   ]
  },
  {
   "cell_type": "code",
   "execution_count": 48,
   "metadata": {
    "tags": []
   },
   "outputs": [],
   "source": [
    "def compression(fichier, k):\n",
    "    def write_bvh(file_name, bvh, M):\n",
    "        sep = 'Frame Time: ' + str(bvh.frame_time)\n",
    "        header = bvh.data.split(sep)[0]\n",
    "        text = ''\n",
    "        m,d = M.shape\n",
    "        for i in range(0, m):\n",
    "            for j in range(0,d):\n",
    "                text = text + \"%.4f\" % M[i][j] + ' '\n",
    "            text = text[:-1] + '\\n'\n",
    "        with open(file_name, \"w\") as t:\n",
    "            t.write(header + sep + '\\n')\n",
    "            t.write(str(text))\n",
    "\n",
    "    with open(fichier) as f:\n",
    "        mocap = Bvh(f.read())\n",
    "    mat = []\n",
    "    for i in range(0, mocap.nframes):\n",
    "        line = []\n",
    "        for name in mocap.get_joints_names():\n",
    "            for rot in mocap.joint_channels(name):\n",
    "                line.append(mocap.frame_joint_channel(i, name, rot))\n",
    "        mat.append(line)\n",
    "    u, s, vh = np.linalg.svd(mat, full_matrices=False)\n",
    "    u = u[:,:k]\n",
    "    s = s[:k]\n",
    "    vh = vh[:k]\n",
    "    M = np.dot(u * s, vh)\n",
    "    name_file_write = 'write_' + fichier +'_'+ \"%i\" % k + '.bvh'\n",
    "    write_bvh(name_file_write, mocap, M)\n",
    "\n",
    "compression('walking.bvh',50)"
   ]
  },
  {
   "cell_type": "code",
   "execution_count": 8,
   "metadata": {},
   "outputs": [
    {
     "output_type": "error",
     "ename": "NameError",
     "evalue": "name 'header' is not defined",
     "traceback": [
      "\u001b[1;31m---------------------------------------------------------------------------\u001b[0m",
      "\u001b[1;31mNameError\u001b[0m                                 Traceback (most recent call last)",
      "\u001b[1;32m<ipython-input-8-b351451b7349>\u001b[0m in \u001b[0;36m<module>\u001b[1;34m\u001b[0m\n\u001b[0;32m      1\u001b[0m \u001b[1;32mwith\u001b[0m \u001b[0mopen\u001b[0m\u001b[1;33m(\u001b[0m\u001b[1;34m'testwrite.bvh'\u001b[0m\u001b[1;33m,\u001b[0m \u001b[1;34m\"w\"\u001b[0m\u001b[1;33m)\u001b[0m \u001b[1;32mas\u001b[0m \u001b[0mt\u001b[0m\u001b[1;33m:\u001b[0m\u001b[1;33m\u001b[0m\u001b[1;33m\u001b[0m\u001b[0m\n\u001b[1;32m----> 2\u001b[1;33m     \u001b[0mt\u001b[0m\u001b[1;33m.\u001b[0m\u001b[0mwrite\u001b[0m\u001b[1;33m(\u001b[0m\u001b[0mstr\u001b[0m\u001b[1;33m(\u001b[0m\u001b[0mheader\u001b[0m \u001b[1;33m+\u001b[0m \u001b[0msep\u001b[0m \u001b[1;33m+\u001b[0m \u001b[1;34m'\\n'\u001b[0m\u001b[1;33m)\u001b[0m\u001b[1;33m)\u001b[0m\u001b[1;33m\u001b[0m\u001b[1;33m\u001b[0m\u001b[0m\n\u001b[0m",
      "\u001b[1;31mNameError\u001b[0m: name 'header' is not defined"
     ]
    }
   ],
   "source": []
  },
  {
   "cell_type": "code",
   "execution_count": null,
   "metadata": {},
   "outputs": [],
   "source": []
  },
  {
   "cell_type": "code",
   "execution_count": null,
   "metadata": {},
   "outputs": [],
   "source": []
  }
 ]
}