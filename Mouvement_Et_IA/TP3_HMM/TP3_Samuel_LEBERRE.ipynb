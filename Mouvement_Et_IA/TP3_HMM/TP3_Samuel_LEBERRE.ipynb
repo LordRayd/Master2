{
 "metadata": {
  "language_info": {
   "codemirror_mode": {
    "name": "ipython",
    "version": 3
   },
   "file_extension": ".py",
   "mimetype": "text/x-python",
   "name": "python",
   "nbconvert_exporter": "python",
   "pygments_lexer": "ipython3",
   "version": "3.7.9-final"
  },
  "orig_nbformat": 2,
  "kernelspec": {
   "name": "Python 3.7.9 64-bit (conda)",
   "display_name": "Python 3.7.9 64-bit (conda)",
   "metadata": {
    "interpreter": {
     "hash": "af0213e7f25141ee04fe389dc8ad6b35b026bad001b81753d76493b1b6cea4f1"
    }
   }
  }
 },
 "nbformat": 4,
 "nbformat_minor": 2,
 "cells": [
  {
   "source": [
    "# TP - HMM\n",
    "## Import\n"
   ],
   "cell_type": "markdown",
   "metadata": {}
  },
  {
   "cell_type": "code",
   "execution_count": 1,
   "metadata": {},
   "outputs": [],
   "source": [
    "import numpy as np"
   ]
  },
  {
   "source": [
    "## Variables"
   ],
   "cell_type": "markdown",
   "metadata": {}
  },
  {
   "cell_type": "code",
   "execution_count": 2,
   "metadata": {},
   "outputs": [],
   "source": [
    "states = (\"normal\",\"confinement\",'vacances')\n",
    "obs =(\"sport\",\"courses\",\"sport\",\"dormir\")\n",
    "emit_p = {\n",
    "    'normal' :  {'dormir' : 0.4, 'sport' : 0.3, 'courses' : 0.3},\n",
    "    'confinement' :  {'dormir' : 0.4, 'sport' : 0.2, 'courses' : 0.4},\n",
    "    'vacances' : {'dormir' : 0.7, 'sport' : 0.1, 'courses' : 0.2}\n",
    "}\n",
    "start_p = {\n",
    "    'normal' : 0.6,\n",
    "    'confinement' : 0.1,\n",
    "    'vacances' : 0.3\n",
    "}\n",
    "trans_p = {\n",
    "    'normal' : {'normal' : 0.8, 'confinement' : 0.1, 'vacances' : 0.1},\n",
    "    'confinement' : {'normal' : 0.3, 'confinement' : 0.6, 'vacances' : 0.1},\n",
    "    'vacances' : {'normal' : 0.5, 'confinement' : 0.1, 'vacances' : 0.4}\n",
    "}"
   ]
  },
  {
   "source": [
    "## Algorithme"
   ],
   "cell_type": "markdown",
   "metadata": {}
  },
  {
   "cell_type": "code",
   "execution_count": 3,
   "metadata": {},
   "outputs": [],
   "source": [
    "def viterbi(obs, states, start_p, trans_p, emit_p):\n",
    "    \"\"\"\n",
    "    Return the MAP estimate of state trajectory of Hidden Markov Model.\n",
    "\n",
    "    Parameters\n",
    "    ----------\n",
    "    obs : array (T,)\n",
    "        Observation state sequence. int dtype.\n",
    "    start_p: optional, (K,)\n",
    "        Initial state probabilities: Pi[i] is the probability x[0] == i. If\n",
    "        None, uniform initial distribution is assumed (Pi[:] == 1/K).\n",
    "    trans_p : array (K, K)\n",
    "        State transition matrix. See HiddenMarkovModel.state_transition  for\n",
    "        details.\n",
    "    emit_p : array (K, M)\n",
    "        Emission matrix. See HiddenMarkovModel.emission for details.\n",
    "\n",
    "    Returns\n",
    "    -------\n",
    "    x : array (T,)\n",
    "        Maximum a posteriori probability estimate of hidden state trajectory,\n",
    "        conditioned on observation sequence y under the model parameters A, B,\n",
    "        Pi.\n",
    "    T1: array (K, T)\n",
    "        the probability of the most likely path so far\n",
    "    T2: array (K, T)\n",
    "        the x_j-1 of the most likely path so far\n",
    "    \"\"\"\n",
    "    V = [{}]\n",
    "    for st in states:\n",
    "        V[0][st] = {\"prob\": start_p[st] * emit_p[st][obs[0]], \"prev\": None}\n",
    "    # Run Viterbi when t > 0\n",
    "    for t in range(1, len(obs)):\n",
    "        V.append({})\n",
    "        for st in states:\n",
    "            max_tr_prob = V[t - 1][states[0]][\"prob\"] * trans_p[states[0]][st]\n",
    "            prev_st_selected = states[0]\n",
    "            for prev_st in states[1:]:\n",
    "                tr_prob = V[t - 1][prev_st][\"prob\"] * trans_p[prev_st][st]\n",
    "                if tr_prob > max_tr_prob:\n",
    "                    max_tr_prob = tr_prob\n",
    "                    prev_st_selected = prev_st\n",
    "\n",
    "            max_prob = max_tr_prob * emit_p[st][obs[t]]\n",
    "            V[t][st] = {\"prob\": max_prob, \"prev\": prev_st_selected}\n",
    "\n",
    "    for line in dptable(V):\n",
    "        print(line)\n",
    "\n",
    "    opt = []\n",
    "    max_prob = 0.0\n",
    "    previous = None\n",
    "    # Get most probable state and its backtrack\n",
    "    for st, data in V[-1].items():\n",
    "        if data[\"prob\"] > max_prob:\n",
    "            max_prob = data[\"prob\"]\n",
    "            best_st = st\n",
    "    opt.append(best_st)\n",
    "    previous = best_st\n",
    "\n",
    "    # Follow the backtrack till the first observation\n",
    "    for t in range(len(V) - 2, -1, -1):\n",
    "        opt.insert(0, V[t + 1][previous][\"prev\"])\n",
    "        previous = V[t + 1][previous][\"prev\"]\n",
    "    \n",
    "    print ('The steps of states are ' + ' '.join(opt) + ' with highest probability of %s' % max_prob)\n",
    "    return V,opt\n",
    "\n",
    "\n",
    "def dptable(V):\n",
    "    # Print a table of steps from dictionary\n",
    "    yield \" \".join((\"%9d\" % i) for i in range(len(V)))\n",
    "    for state in V[0]:\n",
    "        yield \"%.7s: \" % state + \" \".join(\"%.7s\" % (\"%f\" % v[state][\"prob\"]) for v in V)\n",
    "\n"
   ]
  },
  {
   "cell_type": "code",
   "execution_count": 4,
   "metadata": {},
   "outputs": [
    {
     "output_type": "stream",
     "name": "stdout",
     "text": [
      "        0         1         2         3\nnormal: 0.18000 0.04320 0.01036 0.00331\nconfine: 0.02000 0.00720 0.00086 0.00041\nvacance: 0.03000 0.00360 0.00043 0.00072\nThe steps of states are normal normal normal normal with highest probability of 0.0033177600000000003\n"
     ]
    },
    {
     "output_type": "execute_result",
     "data": {
      "text/plain": [
       "([{'normal': {'prob': 0.18, 'prev': None},\n",
       "   'confinement': {'prob': 0.020000000000000004, 'prev': None},\n",
       "   'vacances': {'prob': 0.03, 'prev': None}},\n",
       "  {'normal': {'prob': 0.043199999999999995, 'prev': 'normal'},\n",
       "   'confinement': {'prob': 0.0072, 'prev': 'normal'},\n",
       "   'vacances': {'prob': 0.0036, 'prev': 'normal'}},\n",
       "  {'normal': {'prob': 0.010368, 'prev': 'normal'},\n",
       "   'confinement': {'prob': 0.0008640000000000001, 'prev': 'normal'},\n",
       "   'vacances': {'prob': 0.00043200000000000004, 'prev': 'normal'}},\n",
       "  {'normal': {'prob': 0.0033177600000000003, 'prev': 'normal'},\n",
       "   'confinement': {'prob': 0.00041472000000000004, 'prev': 'normal'},\n",
       "   'vacances': {'prob': 0.00072576, 'prev': 'normal'}}],\n",
       " ['normal', 'normal', 'normal', 'normal'])"
      ]
     },
     "metadata": {},
     "execution_count": 4
    }
   ],
   "source": [
    "viterbi(obs, states, start_p, trans_p, emit_p)"
   ]
  },
  {
   "cell_type": "code",
   "execution_count": null,
   "metadata": {},
   "outputs": [],
   "source": []
  }
 ]
}