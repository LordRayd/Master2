{
 "metadata": {
  "language_info": {
   "codemirror_mode": {
    "name": "ipython",
    "version": 3
   },
   "file_extension": ".py",
   "mimetype": "text/x-python",
   "name": "python",
   "nbconvert_exporter": "python",
   "pygments_lexer": "ipython3",
   "version": "3.7.9-final"
  },
  "orig_nbformat": 2,
  "kernelspec": {
   "name": "Python 3.7.9 64-bit (conda)",
   "display_name": "Python 3.7.9 64-bit (conda)",
   "metadata": {
    "interpreter": {
     "hash": "af0213e7f25141ee04fe389dc8ad6b35b026bad001b81753d76493b1b6cea4f1"
    }
   }
  }
 },
 "nbformat": 4,
 "nbformat_minor": 2,
 "cells": [
  {
   "source": [
    "# TP - HMM\n",
    "## Import\n"
   ],
   "cell_type": "markdown",
   "metadata": {}
  },
  {
   "cell_type": "code",
   "execution_count": 1,
   "metadata": {},
   "outputs": [],
   "source": [
    "import numpy as np"
   ]
  },
  {
   "source": [
    "## Variables"
   ],
   "cell_type": "markdown",
   "metadata": {}
  },
  {
   "cell_type": "code",
   "execution_count": 2,
   "metadata": {},
   "outputs": [],
   "source": [
    "states = (\"normal\",\"confinement\",'vacances')\n",
    "\n",
    "obs =(\"sport\",\"courses\",\"sport\",\"dormir\")\n",
    "\n",
    "emit_p = {\n",
    "    'normal' :  {'dormir' : 0.4, 'sport' : 0.3, 'courses' : 0.3},\n",
    "    'confinement' :  {'dormir' : 0.4, 'sport' : 0.2, 'courses' : 0.4},\n",
    "    'vacances' : {'dormir' : 0.7, 'sport' : 0.1, 'courses' : 0.2}\n",
    "}\n",
    "\n",
    "start_p = {\n",
    "    'normal' : 0.6,\n",
    "    'confinement' : 0.1,\n",
    "    'vacances' : 0.3\n",
    "}\n",
    "\n",
    "trans_p = {\n",
    "    'normal' : {'normal' : 0.8, 'confinement' : 0.1, 'vacances' : 0.1},\n",
    "    'confinement' : {'normal' : 0.3, 'confinement' : 0.6, 'vacances' : 0.1},\n",
    "    'vacances' : {'normal' : 0.5, 'confinement' : 0.1, 'vacances' : 0.4}\n",
    "}"
   ]
  },
  {
   "source": [
    "## Algorithme"
   ],
   "cell_type": "markdown",
   "metadata": {}
  },
  {
   "cell_type": "code",
   "execution_count": 3,
   "metadata": {},
   "outputs": [],
   "source": [
    "def trouve_chemin(mat_res) :\n",
    "    opt = []\n",
    "    max_prob = 0.0\n",
    "    previous = None\n",
    "    \n",
    "    # Trouve la proba max a la derniere etape de la suite d'action\n",
    "    for st, data in mat_res[-1].items():\n",
    "        if data[\"prob\"] > max_prob:\n",
    "            max_prob = data[\"prob\"]\n",
    "            best_st = st\n",
    "    opt.append(best_st)\n",
    "    previous = best_st\n",
    "\n",
    "    # Part de la fin et remonte jusque l'element 0 avec la proba max\n",
    "    # ajoute l'etat precedent de la plus grande proba à l'indice 0 de opt\n",
    "    for col in range(len(mat_res) - 2, -1, -1):\n",
    "        previous = mat_res[col + 1][previous][\"prev\"]\n",
    "        opt.insert(0, previous)\n",
    "    return opt"
   ]
  },
  {
   "cell_type": "code",
   "execution_count": 4,
   "metadata": {},
   "outputs": [],
   "source": [
    "def viterbi(obs, states, start_p, trans_p, emit_p):\n",
    "    # Initialise la matrice de retour\n",
    "    mat_res = [{}]\n",
    "    for st in states:\n",
    "        mat_res[0][st] = {\"prob\": start_p[st] * emit_p[st][obs[0]], \"prev\": None}\n",
    "\n",
    "    # pour chaque etape de la suite d'action observer\n",
    "    for col in range(1, len(obs)):\n",
    "        # ajout d'une colonne a mat_res\n",
    "        mat_res.append({})\n",
    "\n",
    "        # pour chacun des etats\n",
    "        for etat in states:\n",
    "            max_tr_prob = mat_res[col - 1][states[0]][\"prob\"] * trans_p[states[0]][etat]\n",
    "            prev_st_selected = states[0]\n",
    "            for prev_st in states[1:]:\n",
    "                tr_prob = mat_res[col - 1][prev_st][\"prob\"] * trans_p[prev_st][etat]\n",
    "                if tr_prob > max_tr_prob:\n",
    "                    max_tr_prob = tr_prob\n",
    "                    prev_st_selected = prev_st\n",
    "\n",
    "            max_prob = max_tr_prob * emit_p[etat][obs[col]]\n",
    "            mat_res[col][etat] = {\"prob\": max_prob, \"prev\": prev_st_selected}\n",
    "    return mat_res, max_prob"
   ]
  },
  {
   "source": [
    "## Exécution"
   ],
   "cell_type": "markdown",
   "metadata": {}
  },
  {
   "cell_type": "code",
   "execution_count": 5,
   "metadata": {},
   "outputs": [],
   "source": [
    "mat,proba_max = viterbi(obs, states, start_p, trans_p, emit_p)"
   ]
  },
  {
   "source": [
    "## Affichage"
   ],
   "cell_type": "markdown",
   "metadata": {}
  },
  {
   "cell_type": "code",
   "execution_count": 6,
   "metadata": {},
   "outputs": [],
   "source": [
    "def affiche_table(mat):\n",
    "    \"\"\"\n",
    "    Affiche la table de resultat de viterbi \n",
    "    \"\"\"\n",
    "    str_mat = ''\n",
    "    for etat in mat[0]:\n",
    "        str_mat +=  str(etat) + ' : '\n",
    "        for ligne in mat:\n",
    "            str_mat += ' %.4f' % ligne[etat][\"prob\"]\n",
    "        str_mat += '\\n'\n",
    "    print(str_mat)\n",
    "\n",
    "def affiche_chemin(mat, proba_max) : \n",
    "    opt = trouve_chemin(mat)\n",
    "    print(\"Suite des differents états pour le meilleur resultat : \", proba_max)\n",
    "    for i in opt:\n",
    "        print(i)"
   ]
  },
  {
   "cell_type": "code",
   "execution_count": 7,
   "metadata": {},
   "outputs": [
    {
     "output_type": "stream",
     "name": "stdout",
     "text": [
      "normal :  0.1800 0.0432 0.0104 0.0033\nconfinement :  0.0200 0.0072 0.0009 0.0004\nvacances :  0.0300 0.0036 0.0004 0.0007\n\nSuite des differents états pour le meilleur resultat :  0.00072576\nnormal\nnormal\nnormal\nnormal\n"
     ]
    }
   ],
   "source": [
    "affiche_table(mat)\n",
    "affiche_chemin(mat, proba_max)"
   ]
  }
 ]
}