{
 "metadata": {
  "language_info": {
   "codemirror_mode": {
    "name": "ipython",
    "version": 3
   },
   "file_extension": ".py",
   "mimetype": "text/x-python",
   "name": "python",
   "nbconvert_exporter": "python",
   "pygments_lexer": "ipython3",
   "version": "3.7.9-final"
  },
  "orig_nbformat": 2,
  "kernelspec": {
   "name": "Python 3.7.9 64-bit ('base': conda)",
   "display_name": "Python 3.7.9 64-bit ('base': conda)",
   "metadata": {
    "interpreter": {
     "hash": "af0213e7f25141ee04fe389dc8ad6b35b026bad001b81753d76493b1b6cea4f1"
    }
   }
  }
 },
 "nbformat": 4,
 "nbformat_minor": 2,
 "cells": [
  {
   "source": [
    "# TP Reco\n",
    "## Import & definition variable"
   ],
   "cell_type": "markdown",
   "metadata": {}
  },
  {
   "cell_type": "code",
   "execution_count": 1,
   "metadata": {},
   "outputs": [],
   "source": [
    "import numpy as np \n",
    "import glob\n",
    "import csv\n",
    "import pandas as pd\n",
    "VALUES = []\n",
    "VALUES_RIGHT_HAND = []\n",
    "VALUES_LEFT_HAND  = []"
   ]
  },
  {
   "source": [
    "## Recuperation Données"
   ],
   "cell_type": "markdown",
   "metadata": {}
  },
  {
   "cell_type": "code",
   "execution_count": 2,
   "metadata": {},
   "outputs": [],
   "source": [
    "def read_csv_file(_file_name):\n",
    "    df=pd.read_csv(_file_name, sep=',', header=None)\n",
    "    return df.values"
   ]
  },
  {
   "cell_type": "code",
   "execution_count": null,
   "metadata": {},
   "outputs": [],
   "source": [
    "def append_values_in_variable():\n",
    "    VALUES = read_csv_file('PositionHandJoints/LH_S1_f3060_l25_5.csv')\n",
    "    val = read_csv_file('PositionHandJoints/LH_S1_f6588_l20_O.csv')\n",
    "    if(VALUES[0] == val[0]):\n",
    "        VALUES = np.append(VALUES,val[1:,:])\n",
    "    else :\n",
    "        m,d = VALUES.shape\n",
    "        tab = np.arange(m*d).reshape(m,d)\n",
    "        for i in range(d):\n",
    "            for j in range(d):\n",
    "                if(VALUES[0][i] == val[0][j]) :\n",
    "                    tab[:,i] = val[:,j]\n",
    "        VALUES = np.append(VALUES,tab[1:,:])"
   ]
  },
  {
   "cell_type": "code",
   "execution_count": null,
   "metadata": {
    "tags": []
   },
   "outputs": [],
   "source": [
    "append_values_in_variable()"
   ]
  },
  {
   "source": [
    "## Trouve les fichiers et leurs noms"
   ],
   "cell_type": "markdown",
   "metadata": {}
  },
  {
   "cell_type": "code",
   "execution_count": 3,
   "metadata": {
    "tags": []
   },
   "outputs": [],
   "source": [
    "alldata_file = { 'LH' : [\n",
    "                    {},\n",
    "                    {},\n",
    "                    {},\n",
    "                    {},\n",
    "                    {},\n",
    "                    {},\n",
    "                    {},\n",
    "                    {},\n",
    "                    {},\n",
    "                    {},\n",
    "                    {}\n",
    "            ], \n",
    "            'RH' :[\n",
    "                    {},\n",
    "                    {},\n",
    "                    {},\n",
    "                    {},\n",
    "                    {},\n",
    "                    {},\n",
    "                    {},\n",
    "                    {},\n",
    "                    {},\n",
    "                    {},\n",
    "                    {}\n",
    "            ]}\n",
    "def init_all_data_file():\n",
    "    for name in glob.glob('PositionHandJoints/*'):\n",
    "        name_file = name.split('\\\\')[1]\n",
    "        elems = name_file.split('_')\n",
    "\n",
    "        d_type = elems[0]\n",
    "        sequence =  elems[1].split('S')[1]\n",
    "        frame = elems[2].split('f')[1]\n",
    "        length = elems[3].split('l')[1]\n",
    "        label = elems[4].split('.')[0]\n",
    "        alldata_file[str(d_type)][int(sequence)-1].update({int(frame) : [int(length),label]})\n",
    "\n",
    "def length_hand_index(hand = 'LH'):\n",
    "    ret = 0\n",
    "    for i in alldata_file[hand]:\n",
    "        ret=1\n",
    "init_all_data_file()\n",
    "length_hand_index()"
   ]
  },
  {
   "source": [
    "## Lecture de tous les csv et stockage dans un tableau par main"
   ],
   "cell_type": "markdown",
   "metadata": {}
  },
  {
   "cell_type": "code",
   "execution_count": 12,
   "metadata": {
    "tags": []
   },
   "outputs": [
    {
     "output_type": "stream",
     "name": "stdout",
     "text": [
      "(13133,)\n(16284,)\n"
     ]
    }
   ],
   "source": [
    "def read_all_files():\n",
    "    values_left_hand = []\n",
    "    values_right_hand = []\n",
    "    for key,values in alldata_file.items():\n",
    "        sequence_max = len(values)-1\n",
    "        for seq in range(sequence_max):\n",
    "            for key2 in values[seq].keys():\n",
    "                filename = 'PositionHandJoints/'+ key + '_S' + \"%s\" % (seq+1) + '_f' + \"%s\" % key2 + '_l' + \"%s\" % values[seq][key2][0] + '_' + values[seq][key2][1] + '.csv'\n",
    "                val = read_csv_file(filename)\n",
    "                if key == 'LH':\n",
    "                    if len(values_left_hand) == 0:\n",
    "                        values_left_hand = val\n",
    "                    else:\n",
    "                        if(values_left_hand[0] == val[0]):\n",
    "                            values_left_hand = np.append(values_left_hand,val[1:,:])\n",
    "                        else :\n",
    "                            m,d = values_left_hand.shape\n",
    "                            tab = np.arange(m*d).reshape(m,d)\n",
    "                            for i in range(d):\n",
    "                                for j in range(d):\n",
    "                                    if(values_left_hand[0][i] == val[0][j]) :\n",
    "                                        tab[:,i] = val[:,j]\n",
    "                            values_left_hand = np.append(values_left_hand,tab[1:,:])\n",
    "                else:\n",
    "                    if len(values_right_hand) == 0:\n",
    "                        values_right_hand = val\n",
    "                    else:\n",
    "                        if(values_right_hand[0] == val[0]):\n",
    "                            values_right_hand = np.append(values_right_hand,val[1:,:])\n",
    "                        else :\n",
    "                            m,d = values_right_hand.shape\n",
    "                            tab = np.arange(m*d).reshape(m,d)\n",
    "                            for i in range(d):\n",
    "                                for j in range(d):\n",
    "                                    if(values_right_hand[0][i] == val[0][j]) :\n",
    "                                        tab[:,i] = val[:,j]\n",
    "                            values_right_hand = np.append(values_right_hand,tab[1:,:])\n",
    "    return values_left_hand,values_right_hand\n",
    "VALUES_LEFT_HAND,VALUES_RIGHT_HAND = read_all_files()\n",
    "print(VALUES_LEFT_HAND.shape)\n",
    "print(VALUES_RIGHT_HAND.shape)"
   ]
  },
  {
   "cell_type": "code",
   "execution_count": null,
   "metadata": {},
   "outputs": [],
   "source": [
    "def tab_class(classe='')"
   ]
  }
 ]
}