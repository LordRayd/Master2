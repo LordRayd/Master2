{
 "metadata": {
  "language_info": {
   "codemirror_mode": {
    "name": "ipython",
    "version": 3
   },
   "file_extension": ".py",
   "mimetype": "text/x-python",
   "name": "python",
   "nbconvert_exporter": "python",
   "pygments_lexer": "ipython3",
   "version": "3.7.9-final"
  },
  "orig_nbformat": 2,
  "kernelspec": {
   "name": "Python 3.7.9 64-bit (conda)",
   "display_name": "Python 3.7.9 64-bit (conda)",
   "metadata": {
    "interpreter": {
     "hash": "af0213e7f25141ee04fe389dc8ad6b35b026bad001b81753d76493b1b6cea4f1"
    }
   }
  }
 },
 "nbformat": 4,
 "nbformat_minor": 2,
 "cells": [
  {
   "source": [
    "# TP Reco\n",
    "## Import"
   ],
   "cell_type": "markdown",
   "metadata": {}
  },
  {
   "cell_type": "code",
   "execution_count": 9,
   "metadata": {},
   "outputs": [
    {
     "output_type": "stream",
     "name": "stderr",
     "text": [
      "Using TensorFlow backend.\n"
     ]
    }
   ],
   "source": [
    "import numpy as np \n",
    "import glob\n",
    "import csv\n",
    "import pandas as pd\n",
    "\n",
    "from sklearn.model_selection import train_test_split\n",
    "from sklearn.preprocessing import StandardScaler\n",
    "from sklearn.svm import SVC\n",
    "from sklearn.linear_model import LogisticRegression\n",
    "from sklearn.neighbors import KNeighborsClassifier\n",
    "from sklearn.naive_bayes import GaussianNB\n",
    "\n",
    "from keras.utils.np_utils import to_categorical"
   ]
  },
  {
   "source": [
    "## Recuperation Données"
   ],
   "cell_type": "markdown",
   "metadata": {}
  },
  {
   "cell_type": "code",
   "execution_count": 2,
   "metadata": {},
   "outputs": [],
   "source": [
    "def read_csv_file(_file_name):\n",
    "    df=pd.read_csv(_file_name, sep=',', header=None)\n",
    "    return df.values"
   ]
  },
  {
   "source": [
    "## Trouve les fichiers et leurs noms"
   ],
   "cell_type": "markdown",
   "metadata": {}
  },
  {
   "cell_type": "code",
   "execution_count": 3,
   "metadata": {},
   "outputs": [],
   "source": [
    "def init_data_file(hand_='LH', sequence_=None, frame_=None, label_=None):\n",
    "    data = {hand_ : [{},{},{},{},{},{},{},{},{},{},{}] }\n",
    "    for name in glob.glob('PositionHandjoints/*'):\n",
    "        name_file = name.split('\\\\')[1]\n",
    "        elems = name_file.split('_')\n",
    "\n",
    "        d_type = elems[0]\n",
    "        if hand_ == d_type:\n",
    "            sequence =  elems[1].split('S')[1]\n",
    "            if sequence_ == None or sequence_ == sequence:\n",
    "                frame = elems[2].split('f')[1]\n",
    "                if frame_ == None or frame_ == frame:\n",
    "                    length = elems[3].split('l')[1]\n",
    "                    label = elems[4].split('.')[0]\n",
    "                    if label_ == None or label_ == label:\n",
    "                        data[str(d_type)][int(sequence)-1].update({int(frame) : [int(length),label]})\n",
    "\n",
    "    return data\n",
    "    \n",
    "init = init_data_file()"
   ]
  },
  {
   "source": [
    "## Lecture de tous les csv et stockage dans un tableau par main"
   ],
   "cell_type": "markdown",
   "metadata": {}
  },
  {
   "cell_type": "code",
   "execution_count": 98,
   "metadata": {
    "tags": []
   },
   "outputs": [],
   "source": [
    "def read_all_files(hand_='LH', sequence_=None, frame_=None, label_=None):\n",
    "    alldata_file = init_data_file(hand_, sequence_, frame_,label_)\n",
    "    data = []\n",
    "    cible = []\n",
    "    nb_classe_cible = 0\n",
    "    \n",
    "    for key,values in alldata_file.items():\n",
    "        sequence_max = len(values)-1\n",
    "        for seq in range(sequence_max):\n",
    "            for key2 in values[seq].keys():\n",
    "                filename = 'PositionHandJoints/'+ key + '_S' + \"%s\" % (seq+1) + '_f' + \"%s\" % key2 + '_l' + \"%s\" % values[seq][key2][0] + '_' + values[seq][key2][1] + '.csv'\n",
    "                table = pd.read_csv(filename, sep=' ',header=None)\n",
    "\n",
    "                val = table.values\n",
    "                m,d = val.shape\n",
    "                cible_tmp = [int(nb_classe_cible) for i in range(m)]\n",
    "                for i in range(m):\n",
    "                    if i > 0 :\n",
    "                        cible.append(cible_tmp[i])\n",
    "                        data_tmp = []\n",
    "                        for j in range(d-1):\n",
    "                            data_tmp.append(float(val[i][j])) \n",
    "                        data.append(data_tmp)\n",
    "                nb_classe_cible += 1\n",
    "    cible = cible[:][:]\n",
    "    return np.asarray(data),np.asarray(cible), nb_classe_cible"
   ]
  },
  {
   "source": [],
   "cell_type": "markdown",
   "metadata": {}
  },
  {
   "cell_type": "code",
   "execution_count": 105,
   "metadata": {},
   "outputs": [
    {
     "output_type": "stream",
     "name": "stdout",
     "text": [
      "Nombre de classes de la main gauche 223\n",
      "Nombre de classes de la main droite 377\n"
     ]
    }
   ],
   "source": [
    "data_left, target_left, nb_left = read_all_files(hand_='LH')\n",
    "print('Nombre de classes de la main gauche :', nb_left)\n",
    "\n",
    "data_right, target_right, nb_right = read_all_files(hand_='RH')\n",
    "print('Nombre de classes de la main droite :', nb_right)"
   ]
  },
  {
   "source": [
    "## Separation data\n",
    "### Gauche"
   ],
   "cell_type": "markdown",
   "metadata": {}
  },
  {
   "cell_type": "code",
   "execution_count": 100,
   "metadata": {},
   "outputs": [],
   "source": [
    "X_train_left, X_test_left, y_train_left, y_test_left = train_test_split(data_left, target_left, test_size=0.2)\n",
    "X_train_left = np.asarray(X_train_left)\n",
    "X_test_left = np.asarray(X_test_left)"
   ]
  },
  {
   "source": [
    "### Droite"
   ],
   "cell_type": "markdown",
   "metadata": {}
  },
  {
   "cell_type": "code",
   "execution_count": null,
   "metadata": {},
   "outputs": [],
   "source": [
    "X_train_right, X_test_right, y_train_right, y_test_right = train_test_split(data_right, target_right, test_size=0.2)\n",
    "X_train_right = np.asarray(X_train_right)\n",
    "X_test_right = np.asarray(X_test_right)"
   ]
  },
  {
   "source": [
    "## SVC\n",
    "### Gauche"
   ],
   "cell_type": "markdown",
   "metadata": {}
  },
  {
   "cell_type": "code",
   "execution_count": 101,
   "metadata": {},
   "outputs": [
    {
     "output_type": "execute_result",
     "data": {
      "text/plain": [
       "0.9676437000380662"
      ]
     },
     "metadata": {},
     "execution_count": 101
    }
   ],
   "source": [
    "svc = SVC(gamma='auto')\n",
    "svc.fit(X_train_left, y_train_left)\n",
    "svc.score(X_test_left, y_test_left)"
   ]
  },
  {
   "source": [
    "### Droite"
   ],
   "cell_type": "markdown",
   "metadata": {}
  },
  {
   "cell_type": "code",
   "execution_count": null,
   "metadata": {},
   "outputs": [],
   "source": [
    "svc = SVC(gamma='auto')\n",
    "svc.fit(X_train_right, y_train_right)\n",
    "svc.score(X_test_right, y_test_right)"
   ]
  },
  {
   "source": [
    "## Gaussian\n",
    "### Gauche"
   ],
   "cell_type": "markdown",
   "metadata": {}
  },
  {
   "cell_type": "code",
   "execution_count": 102,
   "metadata": {},
   "outputs": [
    {
     "output_type": "execute_result",
     "data": {
      "text/plain": [
       "0.7921583555386372"
      ]
     },
     "metadata": {},
     "execution_count": 102
    }
   ],
   "source": [
    "gnb = GaussianNB()\n",
    "gnb.fit(X_train_left, y_train_left)\n",
    "gnb.score(X_test_left, y_test_left)"
   ]
  },
  {
   "source": [
    "### Droite"
   ],
   "cell_type": "markdown",
   "metadata": {}
  },
  {
   "cell_type": "code",
   "execution_count": null,
   "metadata": {},
   "outputs": [],
   "source": [
    "gnb = GaussianNB()\n",
    "gnb.fit(X_train_right, y_train_right)\n",
    "gnb.score(X_test_right, y_test_right)"
   ]
  },
  {
   "source": [
    "## KNN\n",
    "### Gauche"
   ],
   "cell_type": "markdown",
   "metadata": {}
  },
  {
   "cell_type": "code",
   "execution_count": 103,
   "metadata": {},
   "outputs": [
    {
     "output_type": "execute_result",
     "data": {
      "text/plain": [
       "0.7913970308336505"
      ]
     },
     "metadata": {},
     "execution_count": 103
    }
   ],
   "source": [
    "neigh = KNeighborsClassifier(n_neighbors=nb)\n",
    "neigh.fit(X_train_left, y_train_left)\n",
    "neigh.score(X_test_left, y_test_left)"
   ]
  },
  {
   "source": [
    "### Droite"
   ],
   "cell_type": "markdown",
   "metadata": {}
  },
  {
   "cell_type": "code",
   "execution_count": null,
   "metadata": {},
   "outputs": [],
   "source": [
    "neigh = KNeighborsClassifier(n_neighbors=nb)\n",
    "neigh.fit(X_train_right, y_train_right)\n",
    "neigh.score(X_test_right, y_test_right)"
   ]
  },
  {
   "source": [
    "## Logistic Regression"
   ],
   "cell_type": "markdown",
   "metadata": {}
  },
  {
   "cell_type": "code",
   "execution_count": 104,
   "metadata": {},
   "outputs": [
    {
     "output_type": "execute_result",
     "data": {
      "text/plain": [
       "0.9965740388275599"
      ]
     },
     "metadata": {},
     "execution_count": 104
    }
   ],
   "source": [
    "lr = LogisticRegression(max_iter=1000).fit(X_train, y_train)\n",
    "lr.score(X_test, y_test)"
   ]
  },
  {
   "cell_type": "code",
   "execution_count": null,
   "metadata": {},
   "outputs": [],
   "source": []
  }
 ]
}