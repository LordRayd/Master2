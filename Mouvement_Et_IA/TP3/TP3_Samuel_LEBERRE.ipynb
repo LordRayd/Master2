{
 "metadata": {
  "language_info": {
   "codemirror_mode": {
    "name": "ipython",
    "version": 3
   },
   "file_extension": ".py",
   "mimetype": "text/x-python",
   "name": "python",
   "nbconvert_exporter": "python",
   "pygments_lexer": "ipython3",
   "version": "3.7.9-final"
  },
  "orig_nbformat": 2,
  "kernelspec": {
   "name": "Python 3.7.9 64-bit (conda)",
   "display_name": "Python 3.7.9 64-bit (conda)",
   "metadata": {
    "interpreter": {
     "hash": "af0213e7f25141ee04fe389dc8ad6b35b026bad001b81753d76493b1b6cea4f1"
    }
   }
  }
 },
 "nbformat": 4,
 "nbformat_minor": 2,
 "cells": [
  {
   "source": [
    "# TP - HMM\n",
    "## Import\n"
   ],
   "cell_type": "markdown",
   "metadata": {}
  },
  {
   "cell_type": "code",
   "execution_count": 1,
   "metadata": {},
   "outputs": [],
   "source": [
    "import numpy as np"
   ]
  },
  {
   "source": [
    "## Variables"
   ],
   "cell_type": "markdown",
   "metadata": {}
  },
  {
   "cell_type": "code",
   "execution_count": 2,
   "metadata": {},
   "outputs": [],
   "source": [
    "states = (\"pluie\",\"nuage\",'soleil')\n",
    "obs =(\"marcher\",\"peindre\",\"marcher\",\"travailler\")\n",
    "emit_p = {\n",
    "    'pluie' :  {'travailler' : 0.6, 'marcher' : 0.1, 'peindre' : 0.3},\n",
    "    'nuage' :  {'travailler' : 0.3, 'marcher' : 0.5, 'peindre' : 0.2},\n",
    "    'soleil' : {'travailler' : 0.2, 'marcher' : 0.6, 'peindre' : 0.2}\n",
    "}\n",
    "start_p = {\n",
    "    'pluie' : 0.3,\n",
    "    'nuage' : 0.5,\n",
    "    'soleil' : 0.2\n",
    "}\n",
    "trans_p = {\n",
    "    'pluie' : {'pluie' : 0.4, 'nuage' : 0.3, 'soleil' : 0.3},\n",
    "    'nuage' : {'pluie' : 0.2, 'nuage' : 0.6, 'soleil' : 0.2},\n",
    "    'soleil' : {'pluie' : 0.1, 'nuage' : 0.1, 'soleil' : 0.8}\n",
    "}"
   ]
  },
  {
   "source": [
    "## Algorithme"
   ],
   "cell_type": "markdown",
   "metadata": {}
  },
  {
   "cell_type": "code",
   "execution_count": 3,
   "metadata": {},
   "outputs": [],
   "source": [
    "def create_mat_res(states, path):\n",
    "    ret = {}\n",
    "    for st in states:\n",
    "        tab = [0 for i in range(len(path))]\n",
    "        ret.update({st : tab})\n",
    "    return ret\n",
    "\n",
    "def hmm(path, states, observations, start_probability, transition_probability, emission_probability):\n",
    "    mat_res = create_mat_res(states, path)\n",
    "    mat_path = [[0 for i in range(len(path))] for j in range(len(states))]\n",
    "    for col_path in range(len(path)):\n",
    "        obs = path[col_path]\n",
    "\n",
    "        for etat in states:\n",
    "            mini = 0\n",
    "            val = 0\n",
    "            for etat_rec in states:\n",
    "                if col_path == 0 :\n",
    "                    val = start_probability[etat_rec] * emission_probability[etat][obs] * transition_probability[etat_rec][etat]\n",
    "                else : \n",
    "                    val = emission_probability[etat][obs] * transition_probability[etat_rec][etat]\n",
    "\n",
    "                mini = val if val > mini else mini\n",
    "\n",
    "            mat_res[etat][col_path] = val\n",
    "\n",
    "    return mat_res, mat_path"
   ]
  },
  {
   "cell_type": "code",
   "execution_count": 7,
   "metadata": {},
   "outputs": [],
   "source": [
    "def viterbi(obs, states, start_p, trans_p, emit_p):\n",
    "    \"\"\"\n",
    "    Return the MAP estimate of state trajectory of Hidden Markov Model.\n",
    "\n",
    "    Parameters\n",
    "    ----------\n",
    "    obs : array (T,)\n",
    "        Observation state sequence. int dtype.\n",
    "    trans_p : array (K, K)\n",
    "        State transition matrix. See HiddenMarkovModel.state_transition  for\n",
    "        details.\n",
    "    emit_p : array (K, M)\n",
    "        Emission matrix. See HiddenMarkovModel.emission for details.\n",
    "    start_p: optional, (K,)\n",
    "        Initial state probabilities: Pi[i] is the probability x[0] == i. If\n",
    "        None, uniform initial distribution is assumed (Pi[:] == 1/K).\n",
    "\n",
    "    Returns\n",
    "    -------\n",
    "    x : array (T,)\n",
    "        Maximum a posteriori probability estimate of hidden state trajectory,\n",
    "        conditioned on observation sequence y under the model parameters A, B,\n",
    "        Pi.\n",
    "    T1: array (K, T)\n",
    "        the probability of the most likely path so far\n",
    "    T2: array (K, T)\n",
    "        the x_j-1 of the most likely path so far\n",
    "    \"\"\"\n",
    "    V = [{}]\n",
    "    for st in states:\n",
    "        V[0][st] = {\"prob\": start_p[st] * emit_p[st][obs[0]], \"prev\": None}\n",
    "    # Run Viterbi when t > 0\n",
    "    for t in range(1, len(obs)):\n",
    "        V.append({})\n",
    "        for st in states:\n",
    "            max_tr_prob = V[t - 1][states[0]][\"prob\"] * trans_p[states[0]][st]\n",
    "            prev_st_selected = states[0]\n",
    "            for prev_st in states[1:]:\n",
    "                tr_prob = V[t - 1][prev_st][\"prob\"] * trans_p[prev_st][st]\n",
    "                if tr_prob > max_tr_prob:\n",
    "                    max_tr_prob = tr_prob\n",
    "                    prev_st_selected = prev_st\n",
    "\n",
    "            max_prob = max_tr_prob * emit_p[st][obs[t]]\n",
    "            V[t][st] = {\"prob\": max_prob, \"prev\": prev_st_selected}\n",
    "\n",
    "    for line in dptable(V):\n",
    "        print(line)\n",
    "\n",
    "    opt = []\n",
    "    max_prob = 0.0\n",
    "    previous = None\n",
    "    # Get most probable state and its backtrack\n",
    "    for st, data in V[-1].items():\n",
    "        if data[\"prob\"] > max_prob:\n",
    "            max_prob = data[\"prob\"]\n",
    "            best_st = st\n",
    "    opt.append(best_st)\n",
    "    previous = best_st\n",
    "\n",
    "    # Follow the backtrack till the first observation\n",
    "    for t in range(len(V) - 2, -1, -1):\n",
    "        opt.insert(0, V[t + 1][previous][\"prev\"])\n",
    "        previous = V[t + 1][previous][\"prev\"]\n",
    "    \n",
    "    print ('The steps of states are ' + ' '.join(opt) + ' with highest probability of %s' % max_prob)\n",
    "    return V\n",
    "\n",
    "\n",
    "def dptable(V):\n",
    "    # Print a table of steps from dictionary\n",
    "    yield \" \".join((\"%9d\" % i) for i in range(len(V)))\n",
    "    for state in V[0]:\n",
    "        yield \"%.7s: \" % state + \" \".join(\"%.7s\" % (\"%f\" % v[state][\"prob\"]) for v in V)\n",
    "\n"
   ]
  },
  {
   "cell_type": "code",
   "execution_count": 8,
   "metadata": {},
   "outputs": [
    {
     "output_type": "stream",
     "name": "stdout",
     "text": [
      "        0         1         2         3\npluie : 0.03000 0.01500 0.00060 0.00108\nnuage : 0.25000 0.03000 0.00900 0.00162\nsoleil : 0.12000 0.01920 0.00921 0.00147\nThe steps of states are nuage nuage nuage nuage with highest probability of 0.0016199999999999997\n"
     ]
    },
    {
     "output_type": "execute_result",
     "data": {
      "text/plain": [
       "[{'pluie': {'prob': 0.03, 'prev': None},\n",
       "  'nuage': {'prob': 0.25, 'prev': None},\n",
       "  'soleil': {'prob': 0.12, 'prev': None}},\n",
       " {'pluie': {'prob': 0.015, 'prev': 'nuage'},\n",
       "  'nuage': {'prob': 0.03, 'prev': 'nuage'},\n",
       "  'soleil': {'prob': 0.019200000000000002, 'prev': 'soleil'}},\n",
       " {'pluie': {'prob': 0.0006000000000000001, 'prev': 'pluie'},\n",
       "  'nuage': {'prob': 0.009, 'prev': 'nuage'},\n",
       "  'soleil': {'prob': 0.009216, 'prev': 'soleil'}},\n",
       " {'pluie': {'prob': 0.00108, 'prev': 'nuage'},\n",
       "  'nuage': {'prob': 0.0016199999999999997, 'prev': 'nuage'},\n",
       "  'soleil': {'prob': 0.0014745600000000002, 'prev': 'soleil'}}]"
      ]
     },
     "metadata": {},
     "execution_count": 8
    }
   ],
   "source": [
    "viterbi(obs, states, start_p, trans_p, emit_p)"
   ]
  },
  {
   "cell_type": "code",
   "execution_count": null,
   "metadata": {},
   "outputs": [],
   "source": []
  }
 ]
}